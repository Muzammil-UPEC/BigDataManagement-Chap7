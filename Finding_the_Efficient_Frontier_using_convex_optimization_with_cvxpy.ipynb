{
  "cells": [
    {
      "cell_type": "markdown",
      "metadata": {
        "id": "-4fz6Jiop3om"
      },
      "source": [
        "Finding the Efficient Frontier using convex\n",
        "optimization with cvxpy"
      ]
    },
    {
      "cell_type": "markdown",
      "metadata": {
        "id": "EyN1LrMbp7M-"
      },
      "source": [
        "1. Import the libraries:"
      ]
    },
    {
      "cell_type": "code",
      "execution_count": 2,
      "metadata": {
        "colab": {
          "base_uri": "https://localhost:8080/"
        },
        "id": "Z3ViNog5p9Ze",
        "outputId": "a7a73a62-92a1-4118-cf7b-c383c757b7ec"
      },
      "outputs": [
        {
          "output_type": "stream",
          "name": "stdout",
          "text": [
            "Collecting yfinance\n",
            "  Downloading yfinance-0.1.70-py2.py3-none-any.whl (26 kB)\n",
            "Requirement already satisfied: multitasking>=0.0.7 in /usr/local/lib/python3.7/dist-packages (from yfinance) (0.0.10)\n",
            "Collecting lxml>=4.5.1\n",
            "  Downloading lxml-4.8.0-cp37-cp37m-manylinux_2_17_x86_64.manylinux2014_x86_64.manylinux_2_24_x86_64.whl (6.4 MB)\n",
            "\u001b[K     |████████████████████████████████| 6.4 MB 7.3 MB/s \n",
            "\u001b[?25hRequirement already satisfied: numpy>=1.15 in /usr/local/lib/python3.7/dist-packages (from yfinance) (1.21.5)\n",
            "Collecting requests>=2.26\n",
            "  Downloading requests-2.27.1-py2.py3-none-any.whl (63 kB)\n",
            "\u001b[K     |████████████████████████████████| 63 kB 1.2 MB/s \n",
            "\u001b[?25hRequirement already satisfied: pandas>=0.24.0 in /usr/local/lib/python3.7/dist-packages (from yfinance) (1.3.5)\n",
            "Requirement already satisfied: python-dateutil>=2.7.3 in /usr/local/lib/python3.7/dist-packages (from pandas>=0.24.0->yfinance) (2.8.2)\n",
            "Requirement already satisfied: pytz>=2017.3 in /usr/local/lib/python3.7/dist-packages (from pandas>=0.24.0->yfinance) (2018.9)\n",
            "Requirement already satisfied: six>=1.5 in /usr/local/lib/python3.7/dist-packages (from python-dateutil>=2.7.3->pandas>=0.24.0->yfinance) (1.15.0)\n",
            "Requirement already satisfied: urllib3<1.27,>=1.21.1 in /usr/local/lib/python3.7/dist-packages (from requests>=2.26->yfinance) (1.24.3)\n",
            "Requirement already satisfied: charset-normalizer~=2.0.0 in /usr/local/lib/python3.7/dist-packages (from requests>=2.26->yfinance) (2.0.12)\n",
            "Requirement already satisfied: certifi>=2017.4.17 in /usr/local/lib/python3.7/dist-packages (from requests>=2.26->yfinance) (2021.10.8)\n",
            "Requirement already satisfied: idna<4,>=2.5 in /usr/local/lib/python3.7/dist-packages (from requests>=2.26->yfinance) (2.10)\n",
            "Installing collected packages: requests, lxml, yfinance\n",
            "  Attempting uninstall: requests\n",
            "    Found existing installation: requests 2.23.0\n",
            "    Uninstalling requests-2.23.0:\n",
            "      Successfully uninstalled requests-2.23.0\n",
            "  Attempting uninstall: lxml\n",
            "    Found existing installation: lxml 4.2.6\n",
            "    Uninstalling lxml-4.2.6:\n",
            "      Successfully uninstalled lxml-4.2.6\n",
            "\u001b[31mERROR: pip's dependency resolver does not currently take into account all the packages that are installed. This behaviour is the source of the following dependency conflicts.\n",
            "google-colab 1.0.0 requires requests~=2.23.0, but you have requests 2.27.1 which is incompatible.\n",
            "datascience 0.10.6 requires folium==0.2.1, but you have folium 0.8.3 which is incompatible.\u001b[0m\n",
            "Successfully installed lxml-4.8.0 requests-2.27.1 yfinance-0.1.70\n"
          ]
        }
      ],
      "source": [
        "!pip install yfinance\n",
        "\n",
        "import yfinance as yf\n",
        "import numpy as np\n",
        "import pandas as pd\n"
      ]
    },
    {
      "cell_type": "markdown",
      "metadata": {
        "id": "SILHlaBeqQp-"
      },
      "source": [
        "2. Set up the parameters:"
      ]
    },
    {
      "cell_type": "code",
      "execution_count": 3,
      "metadata": {
        "id": "77prV2ZkqT1W"
      },
      "outputs": [],
      "source": [
        "N_PORTFOLIOS = 10 ** 5\n",
        "N_DAYS = 252\n",
        "RISKY_ASSETS = ['FB', 'TSLA', 'TWTR', 'MSFT']\n",
        "RISKY_ASSETS.sort()\n",
        "START_DATE = '2018-01-01'\n",
        "END_DATE = '2018-12-31'\n",
        "\n",
        "n_assets = len(RISKY_ASSETS)"
      ]
    },
    {
      "cell_type": "markdown",
      "metadata": {
        "id": "jW9L_uI_qZ9O"
      },
      "source": [
        "3. Download the stock prices from Yahoo Finance:"
      ]
    },
    {
      "cell_type": "code",
      "execution_count": 4,
      "metadata": {
        "colab": {
          "base_uri": "https://localhost:8080/"
        },
        "id": "k8VaolUVqbye",
        "outputId": "99911d8a-4835-4212-8965-73178c448e44"
      },
      "outputs": [
        {
          "output_type": "stream",
          "name": "stdout",
          "text": [
            "[*********************100%***********************]  4 of 4 completed\n"
          ]
        }
      ],
      "source": [
        "prices_df = yf.download(RISKY_ASSETS, start=START_DATE, end=END_DATE, adjusted=True)"
      ]
    },
    {
      "cell_type": "markdown",
      "metadata": {
        "id": "ekSPIP2Kqfp2"
      },
      "source": [
        "4. Calculate annualized average returns and the corresponding standard deviation:"
      ]
    },
    {
      "cell_type": "code",
      "execution_count": 5,
      "metadata": {
        "id": "r76MPbjTqi5G"
      },
      "outputs": [],
      "source": [
        "returns_df = prices_df['Adj Close'].pct_change().dropna()\n",
        "avg_returns = returns_df.mean() * N_DAYS\n",
        "cov_mat = returns_df.cov() * N_DAYS"
      ]
    },
    {
      "cell_type": "markdown",
      "metadata": {
        "id": "n1KHkiytlyP_"
      },
      "source": [
        "5. Simulate random portfolio weights"
      ]
    },
    {
      "cell_type": "code",
      "execution_count": 6,
      "metadata": {
        "id": "ft7-Jb0elyQA"
      },
      "outputs": [],
      "source": [
        "np.random.seed(42)\n",
        "weights = np.random.random(size=(N_PORTFOLIOS, n_assets))\n",
        "weights /= np.sum(weights, axis=1)[:, np.newaxis]"
      ]
    },
    {
      "cell_type": "markdown",
      "metadata": {
        "id": "R0LNLa4glyQA"
      },
      "source": [
        "6. Calculate the portfolio metrics"
      ]
    },
    {
      "cell_type": "code",
      "execution_count": 7,
      "metadata": {
        "id": "Oyj7UrnclyQB"
      },
      "outputs": [],
      "source": [
        "portf_rtns = np.dot(weights, avg_returns)\n",
        "portf_vol = []\n",
        "for i in range(0, len(weights)):\n",
        "    portf_vol.append(np.sqrt(np.dot(weights[i].T,\n",
        "                    np.dot(cov_mat, weights[i]))))\n",
        "portf_vol = np.array(portf_vol)\n",
        "portf_sharpe_ratio = portf_rtns / portf_vol"
      ]
    },
    {
      "cell_type": "markdown",
      "metadata": {
        "id": "BbXTCe7mlyQB"
      },
      "source": [
        "7. Create a DataFrame containing all the data"
      ]
    },
    {
      "cell_type": "code",
      "execution_count": 8,
      "metadata": {
        "id": "zWzr24zTlyQC"
      },
      "outputs": [],
      "source": [
        "portf_results_df = pd.DataFrame({'returns': portf_rtns,\n",
        "                                    'volatility': portf_vol,\n",
        "                                    'sharpe_ratio':\n",
        "                                    portf_sharpe_ratio})"
      ]
    },
    {
      "cell_type": "markdown",
      "metadata": {
        "id": "ZW8U61bIqmmH"
      },
      "source": [
        "8. Simulate random portfolio weights:"
      ]
    },
    {
      "cell_type": "code",
      "execution_count": 9,
      "metadata": {
        "id": "EOjg8R7FlyQC"
      },
      "outputs": [],
      "source": [
        "import matplotlib.pyplot as plt"
      ]
    },
    {
      "cell_type": "markdown",
      "metadata": {
        "id": "OzpjUtvylyQD"
      },
      "source": [
        "9. Import the library"
      ]
    },
    {
      "cell_type": "code",
      "execution_count": 10,
      "metadata": {
        "colab": {
          "base_uri": "https://localhost:8080/"
        },
        "id": "ra0e_LP9lyQD",
        "outputId": "805e76f6-cc06-4f38-ba89-46de7747de55"
      },
      "outputs": [
        {
          "output_type": "stream",
          "name": "stdout",
          "text": [
            "Requirement already satisfied: wheel in /usr/local/lib/python3.7/dist-packages (0.37.1)\n",
            "Requirement already satisfied: cvxpy in /usr/local/lib/python3.7/dist-packages (1.0.31)\n",
            "Requirement already satisfied: scipy>=1.1.0 in /usr/local/lib/python3.7/dist-packages (from cvxpy) (1.4.1)\n",
            "Requirement already satisfied: numpy>=1.15 in /usr/local/lib/python3.7/dist-packages (from cvxpy) (1.21.5)\n",
            "Requirement already satisfied: scs>=1.1.3 in /usr/local/lib/python3.7/dist-packages (from cvxpy) (3.2.0)\n",
            "Requirement already satisfied: ecos>=2 in /usr/local/lib/python3.7/dist-packages (from cvxpy) (2.0.10)\n",
            "Requirement already satisfied: osqp>=0.4.1 in /usr/local/lib/python3.7/dist-packages (from cvxpy) (0.6.2.post0)\n",
            "Requirement already satisfied: multiprocess in /usr/local/lib/python3.7/dist-packages (from cvxpy) (0.70.12.2)\n",
            "Requirement already satisfied: qdldl in /usr/local/lib/python3.7/dist-packages (from osqp>=0.4.1->cvxpy) (0.1.5.post2)\n",
            "Requirement already satisfied: dill>=0.3.4 in /usr/local/lib/python3.7/dist-packages (from multiprocess->cvxpy) (0.3.4)\n"
          ]
        }
      ],
      "source": [
        "!pip install wheel\n",
        "!pip install cvxpy --user\n",
        "import scipy.optimize as sco\n",
        "import cvxpy as cp "
      ]
    },
    {
      "cell_type": "markdown",
      "metadata": {
        "id": "I_fBxGLJlyQD"
      },
      "source": [
        "10. Convert the annualized average returns and the covariance matrix to numpy arrays"
      ]
    },
    {
      "cell_type": "code",
      "execution_count": 11,
      "metadata": {
        "id": "4TpW51GBlyQE"
      },
      "outputs": [],
      "source": [
        "avg_returns = avg_returns.values\n",
        "cov_mat = cov_mat.values"
      ]
    },
    {
      "cell_type": "markdown",
      "metadata": {
        "id": "n-zcsIlLlyQE"
      },
      "source": [
        "11. Set up the optimization problem"
      ]
    },
    {
      "cell_type": "code",
      "execution_count": 12,
      "metadata": {
        "id": "uQ4t-VdklyQE"
      },
      "outputs": [],
      "source": [
        "weights = cp.Variable(n_assets)\n",
        "gamma = cp.Parameter(nonneg=True)\n",
        "portf_rtn_cvx = avg_returns * weights\n",
        "portf_vol_cvx = cp.quad_form(weights, cov_mat)\n",
        "objective_function = cp.Maximize(portf_rtn_cvx - gamma * portf_vol_cvx)\n",
        "problem = cp.Problem(objective_function,[cp.sum(weights) == 1, weights >= 0])"
      ]
    },
    {
      "cell_type": "markdown",
      "metadata": {
        "id": "YNFKSYn2lyQF"
      },
      "source": [
        "12. Calculate the Efficient Frontier"
      ]
    },
    {
      "cell_type": "code",
      "execution_count": 13,
      "metadata": {
        "id": "a4YkXqKIlyQG"
      },
      "outputs": [],
      "source": [
        "N_POINTS = 25\n",
        "portf_rtn_cvx_ef = np.zeros(N_POINTS)\n",
        "portf_vol_cvx_ef = np.zeros(N_POINTS)\n",
        "weights_ef = []\n",
        "gamma_range = np.logspace(-3, 3, num=N_POINTS)\n",
        "for i in range(N_POINTS):\n",
        "    gamma.value = gamma_range[i]\n",
        "    problem.solve()\n",
        "    portf_vol_cvx_ef[i] = cp.sqrt(portf_vol_cvx).value\n",
        "    portf_rtn_cvx_ef[i] = portf_rtn_cvx.value\n",
        "    weights_ef.append(weights.value)"
      ]
    },
    {
      "cell_type": "markdown",
      "metadata": {
        "id": "2LO_Ed6ilyQG"
      },
      "source": [
        "Plot the allocation for different values of the risk-aversion parameter"
      ]
    },
    {
      "cell_type": "code",
      "execution_count": 14,
      "metadata": {
        "colab": {
          "base_uri": "https://localhost:8080/",
          "height": 347
        },
        "id": "RCqfv8fKlyQH",
        "outputId": "495f6352-706e-45c7-b9d4-bf7216e128d3"
      },
      "outputs": [
        {
          "output_type": "execute_result",
          "data": {
            "text/plain": [
              "<matplotlib.legend.Legend at 0x7f9c60bccf90>"
            ]
          },
          "metadata": {},
          "execution_count": 14
        },
        {
          "output_type": "display_data",
          "data": {
            "text/plain": [
              "<Figure size 432x288 with 1 Axes>"
            ],
            "image/png": "[encoded data removed]"
          },
          "metadata": {
            "needs_background": "light"
          }
        }
      ],
      "source": [
        "weights_df = pd.DataFrame(weights_ef,\n",
        "                            columns=RISKY_ASSETS,\n",
        "                            index=np.round(gamma_range, 3))\n",
        "ax = weights_df.plot(kind='bar', stacked=True)\n",
        "ax.set(title='Weights allocation per risk-aversion level',\n",
        "        xlabel=r'$\\gamma$',\n",
        "        ylabel='weight')\n",
        "ax.legend(bbox_to_anchor=(1,1))"
      ]
    },
    {
      "cell_type": "code",
      "execution_count": 15,
      "metadata": {
        "colab": {
          "base_uri": "https://localhost:8080/",
          "height": 295
        },
        "id": "z-6Cnul-lyQH",
        "outputId": "44766964-3cf5-455e-937f-39d1a573fee6"
      },
      "outputs": [
        {
          "output_type": "display_data",
          "data": {
            "text/plain": [
              "<Figure size 432x288 with 1 Axes>"
            ],
            "image/png": "[encoded data removed]"
          },
          "metadata": {
            "needs_background": "light"
          }
        }
      ],
      "source": [
        "MARKS = ['o', 'X', 'd', '*']\n",
        "\n",
        "fig, ax = plt.subplots()\n",
        "ax.plot(portf_vol_cvx_ef, portf_rtn_cvx_ef, 'g-')\n",
        "for asset_index in range(n_assets):\n",
        "    plt.scatter(x=np.sqrt(cov_mat[asset_index, asset_index]),\n",
        "                y=avg_returns[asset_index],\n",
        "                marker=MARKS[asset_index],\n",
        "                label=RISKY_ASSETS[asset_index],\n",
        "                s=150)\n",
        "ax.set(title='Efficient Frontier',\n",
        "        xlabel='Volatility',\n",
        "        ylabel='Expected Returns', )\n",
        "ax.legend()\n",
        "ax.grid(True)"
      ]
    },
    {
      "cell_type": "markdown",
      "metadata": {
        "id": "mQ1Lj6_9lyQH"
      },
      "source": [
        "5. Define functions for calculating portfolio returns and volatility"
      ]
    },
    {
      "cell_type": "markdown",
      "metadata": {
        "id": "1HR4b-zKlyQH"
      },
      "source": [
        "6. Define the function calculating the Efficient Frontier"
      ]
    },
    {
      "cell_type": "code",
      "execution_count": 16,
      "metadata": {
        "id": "cclofV_FlyQI"
      },
      "outputs": [],
      "source": [
        "def get_portf_rtn(w, avg_rtns):\n",
        "  return np.sum(avg_rtns * w)\n",
        "def get_portf_vol(w, avg_rtns, cov_mat):\n",
        "  return np.sqrt(np.dot(w.T, np.dot(cov_mat, w)))"
      ]
    },
    {
      "cell_type": "code",
      "execution_count": 17,
      "metadata": {
        "id": "oTH6MCyOlyQI"
      },
      "outputs": [],
      "source": [
        "def get_efficient_frontier(avg_rtns, cov_mat, rtns_range):\n",
        "    efficient_portfolios = []\n",
        "    n_assets = len(avg_returns)\n",
        "    args = (avg_returns, cov_mat)\n",
        "    bounds = tuple((0,1) for asset in range(n_assets))\n",
        "    initial_guess = n_assets * [1. / n_assets, ]\n",
        "    for ret in rtns_range:\n",
        "        constraints = ({'type': 'eq',\n",
        "                    'fun': lambda x: get_portf_rtn(x, avg_rtns)\n",
        "                    - ret},\n",
        "                    {'type': 'eq',\n",
        "                    'fun': lambda x: np.sum(x) - 1})\n",
        "        efficient_portfolio = sco.minimize(get_portf_vol,\n",
        "                    initial_guess,\n",
        "                    args=args,\n",
        "                    method='SLSQP',\n",
        "                    constraints=constraints,\n",
        "                    bounds=bounds)\n",
        "        efficient_portfolios.append(efficient_portfolio)\n",
        "    return efficient_portfolios"
      ]
    },
    {
      "cell_type": "markdown",
      "metadata": {
        "id": "flBxRapRlyQI"
      },
      "source": [
        "7. Define the considered range of returns"
      ]
    },
    {
      "cell_type": "code",
      "execution_count": 18,
      "metadata": {
        "id": "nD46-_tRlyQJ"
      },
      "outputs": [],
      "source": [
        "rtns_range = np.linspace(-0.22, 0.32, 200)"
      ]
    },
    {
      "cell_type": "markdown",
      "metadata": {
        "id": "3sSE8x66lyQJ"
      },
      "source": [
        "8. Calculate the Efficient Frontier"
      ]
    },
    {
      "cell_type": "code",
      "execution_count": 19,
      "metadata": {
        "id": "z6lvdSOYlyQJ"
      },
      "outputs": [],
      "source": [
        "efficient_portfolios = get_efficient_frontier(avg_returns,\n",
        "cov_mat,\n",
        "rtns_range)"
      ]
    },
    {
      "cell_type": "markdown",
      "metadata": {
        "id": "UMf3XKYAlyQJ"
      },
      "source": [
        "9. Extract the volatilities of the efficient portfolios"
      ]
    },
    {
      "cell_type": "code",
      "execution_count": 20,
      "metadata": {
        "id": "S-qLIfP-lyQJ"
      },
      "outputs": [],
      "source": [
        "vols_range = [x['fun'] for x in efficient_portfolios]"
      ]
    },
    {
      "cell_type": "markdown",
      "metadata": {
        "id": "SX6Kgh02lyQJ"
      },
      "source": [
        "10. Plot the calculated Efficient Frontier, together with the simulated portfolios"
      ]
    },
    {
      "cell_type": "code",
      "execution_count": 21,
      "metadata": {
        "colab": {
          "base_uri": "https://localhost:8080/",
          "height": 320
        },
        "id": "Qvh2J1VqlyQK",
        "outputId": "a2825d40-a165-4686-be52-68279f98bee2"
      },
      "outputs": [
        {
          "output_type": "display_data",
          "data": {
            "text/plain": [
              "<Figure size 432x288 with 2 Axes>"
            ],
            "image/png": "[encoded data removed]"
          },
          "metadata": {
            "needs_background": "light"
          }
        }
      ],
      "source": [
        "x_lim = [0.25, 0.6]\n",
        "y_lim = [0.125, 0.325]\n",
        "fig, ax = plt.subplots(1, 2)\n",
        "\n",
        "ax[0].plot(vols_range, rtns_range, 'g-', linewidth=3)\n",
        "ax[0].set(title='Minimized Volatility',\n",
        "            xlabel='Volatility',\n",
        "            ylabel='Expected Returns',\n",
        "            xlim=x_lim,\n",
        "            ylim=y_lim)\n",
        "ax[0].grid(True)\n",
        "\n",
        "ax[1].plot(portf_vol_cvx_ef, portf_rtn_cvx_ef, 'g-', linewidth=3)\n",
        "ax[1].set(title='Maximized Risk-Adjusted Return',\n",
        "            xlabel='Volatility',\n",
        "            ylabel='Expected Returns',\n",
        "            xlim=x_lim,\n",
        "            ylim=y_lim)\n",
        "ax[1].grid(True)\n",
        "plt.subplots_adjust(top=0.92, bottom=0.08, left=0.10, right=1, hspace=0.25,\n",
        "                    wspace=1)\n",
        "\n",
        "plt.show()"
      ]
    },
    {
      "cell_type": "code",
      "execution_count": 22,
      "metadata": {
        "id": "H1n69aJzlyQK"
      },
      "outputs": [],
      "source": [
        "max_leverage = cp.Parameter()\n",
        "problem_with_leverage = cp.Problem(objective_function,\n",
        "                                    [cp.sum(weights) == 1,\n",
        "                                    cp.norm(weights, 1) <= max_leverage])"
      ]
    },
    {
      "cell_type": "code",
      "execution_count": 23,
      "metadata": {
        "id": "UA29wRmxlyQK"
      },
      "outputs": [],
      "source": [
        "LEVERAGE_RANGE = [1, 2, 5]\n",
        "len_leverage = len(LEVERAGE_RANGE)\n",
        "N_POINTS = 25\n",
        "portf_vol_l_ef = np.zeros((N_POINTS, len_leverage))\n",
        "portf_rtn_l_ef = np.zeros(( N_POINTS, len_leverage))\n",
        "weights_ef = np.zeros((len_leverage, N_POINTS, n_assets))\n",
        "for lev_ind, leverage in enumerate(LEVERAGE_RANGE):\n",
        "    for gamma_ind in range(N_POINTS):\n",
        "        max_leverage.value = leverage\n",
        "        gamma.value = gamma_range[gamma_ind]\n",
        "        problem_with_leverage.solve()\n",
        "        portf_vol_l_ef[gamma_ind, lev_ind] = cp.sqrt(portf_vol_cvx).value\n",
        "        portf_rtn_l_ef[gamma_ind, lev_ind] = portf_rtn_cvx.value\n",
        "        weights_ef[lev_ind, gamma_ind, :] = weights.value"
      ]
    },
    {
      "cell_type": "code",
      "execution_count": 24,
      "metadata": {
        "colab": {
          "base_uri": "https://localhost:8080/",
          "height": 295
        },
        "id": "JFnaJ-IOlyQL",
        "outputId": "e4524d78-d72b-4c93-ed43-a3ec4078ee79"
      },
      "outputs": [
        {
          "output_type": "display_data",
          "data": {
            "text/plain": [
              "<Figure size 432x288 with 1 Axes>"
            ],
            "image/png": "[encoded data removed]"
          },
          "metadata": {
            "needs_background": "light"
          }
        }
      ],
      "source": [
        "fig, ax = plt.subplots()\n",
        "for leverage_index, leverage in enumerate(LEVERAGE_RANGE):\n",
        "    plt.plot(portf_vol_l_ef[:, leverage_index],\n",
        "        portf_rtn_l_ef[:, leverage_index],\n",
        "        label=f'{leverage}')\n",
        "ax.set(title='Efficient Frontier for different max leverage',\n",
        "        xlabel='Volatility',\n",
        "        ylabel='Expected Returns')\n",
        "ax.legend(title='Max leverage');"
      ]
    },
    {
      "cell_type": "code",
      "execution_count": 25,
      "metadata": {
        "colab": {
          "base_uri": "https://localhost:8080/",
          "height": 349
        },
        "id": "PBOU0129lyQL",
        "outputId": "09752c2b-bf24-431e-e195-8ced5a5cc49c"
      },
      "outputs": [
        {
          "output_type": "execute_result",
          "data": {
            "text/plain": [
              "Text(0.5, 1.0, 'Weights allocation per risk-aversion level')"
            ]
          },
          "metadata": {},
          "execution_count": 25
        },
        {
          "output_type": "display_data",
          "data": {
            "text/plain": [
              "<Figure size 432x288 with 3 Axes>"
            ],
            "image/png": "[encoded data removed]"
          },
          "metadata": {
            "needs_background": "light"
          }
        }
      ],
      "source": [
        "fig, ax = plt.subplots(len_leverage, 1, sharex=True)\n",
        "for ax_index in range(len_leverage):\n",
        "    weights_df = pd.DataFrame(weights_ef[ax_index],\n",
        "                            columns=RISKY_ASSETS,\n",
        "                            index=np.round(gamma_range, 3))\n",
        "    weights_df.plot(kind='bar',\n",
        "                    stacked=True,\n",
        "                    ax=ax[ax_index],\n",
        "                    legend=None)\n",
        "    ax[ax_index].set(ylabel=(f'max_leverage = {LEVERAGE_RANGE[ax_index]}'\n",
        "                    '\\n weight'))\n",
        "ax[len_leverage - 1].set(xlabel=r'$\\gamma$')\n",
        "ax[0].legend(bbox_to_anchor=(1,1))\n",
        "ax[0].set_title('Weights allocation per risk-aversion level',\n",
        "                fontsize=16)"
      ]
    }
  ],
  "metadata": {
    "colab": {
      "collapsed_sections": [],
      "name": "Finding the Efficient Frontier using convex optimization with cvxpy.ipynb",
      "provenance": []
    },
    "kernelspec": {
      "display_name": "Python 3",
      "name": "python3"
    },
    "language_info": {
      "codemirror_mode": {
        "name": "ipython",
        "version": 3
      },
      "file_extension": ".py",
      "mimetype": "text/x-python",
      "name": "python",
      "nbconvert_exporter": "python",
      "pygments_lexer": "ipython3",
      "version": "3.8.10"
    }
  },
  "nbformat": 4,
  "nbformat_minor": 0
}