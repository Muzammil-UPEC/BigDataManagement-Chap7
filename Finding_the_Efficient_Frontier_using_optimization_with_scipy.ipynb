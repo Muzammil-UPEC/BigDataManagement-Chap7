{
  "cells": [
    {
      "cell_type": "markdown",
      "metadata": {
        "id": "-4fz6Jiop3om"
      },
      "source": [
        "Finding the Efficient Frontier using\n",
        "optimization with scipy"
      ]
    },
    {
      "cell_type": "markdown",
      "metadata": {
        "id": "EyN1LrMbp7M-"
      },
      "source": [
        "1. Import the libraries:"
      ]
    },
    {
      "cell_type": "code",
      "execution_count": null,
      "metadata": {
        "colab": {
          "base_uri": "https://localhost:8080/"
        },
        "id": "Z3ViNog5p9Ze",
        "outputId": "eeb29ee8-58ae-4493-eeb7-3bbafbbde611"
      },
      "outputs": [
        {
          "output_type": "stream",
          "name": "stdout",
          "text": [
            "Collecting yfinance\n",
            "  Downloading yfinance-0.1.70-py2.py3-none-any.whl (26 kB)\n",
            "Requirement already satisfied: pandas>=0.24.0 in /usr/local/lib/python3.7/dist-packages (from yfinance) (1.3.5)\n",
            "Requirement already satisfied: numpy>=1.15 in /usr/local/lib/python3.7/dist-packages (from yfinance) (1.21.5)\n",
            "Requirement already satisfied: multitasking>=0.0.7 in /usr/local/lib/python3.7/dist-packages (from yfinance) (0.0.10)\n",
            "Collecting lxml>=4.5.1\n",
            "  Downloading lxml-4.8.0-cp37-cp37m-manylinux_2_17_x86_64.manylinux2014_x86_64.manylinux_2_24_x86_64.whl (6.4 MB)\n",
            "\u001b[K     |████████████████████████████████| 6.4 MB 18.8 MB/s \n",
            "\u001b[?25hCollecting requests>=2.26\n",
            "  Downloading requests-2.27.1-py2.py3-none-any.whl (63 kB)\n",
            "\u001b[K     |████████████████████████████████| 63 kB 728 kB/s \n",
            "\u001b[?25hRequirement already satisfied: pytz>=2017.3 in /usr/local/lib/python3.7/dist-packages (from pandas>=0.24.0->yfinance) (2018.9)\n",
            "Requirement already satisfied: python-dateutil>=2.7.3 in /usr/local/lib/python3.7/dist-packages (from pandas>=0.24.0->yfinance) (2.8.2)\n",
            "Requirement already satisfied: six>=1.5 in /usr/local/lib/python3.7/dist-packages (from python-dateutil>=2.7.3->pandas>=0.24.0->yfinance) (1.15.0)\n",
            "Requirement already satisfied: charset-normalizer~=2.0.0 in /usr/local/lib/python3.7/dist-packages (from requests>=2.26->yfinance) (2.0.12)\n",
            "Requirement already satisfied: idna<4,>=2.5 in /usr/local/lib/python3.7/dist-packages (from requests>=2.26->yfinance) (2.10)\n",
            "Requirement already satisfied: certifi>=2017.4.17 in /usr/local/lib/python3.7/dist-packages (from requests>=2.26->yfinance) (2021.10.8)\n",
            "Requirement already satisfied: urllib3<1.27,>=1.21.1 in /usr/local/lib/python3.7/dist-packages (from requests>=2.26->yfinance) (1.24.3)\n",
            "Installing collected packages: requests, lxml, yfinance\n",
            "  Attempting uninstall: requests\n",
            "    Found existing installation: requests 2.23.0\n",
            "    Uninstalling requests-2.23.0:\n",
            "      Successfully uninstalled requests-2.23.0\n",
            "  Attempting uninstall: lxml\n",
            "    Found existing installation: lxml 4.2.6\n",
            "    Uninstalling lxml-4.2.6:\n",
            "      Successfully uninstalled lxml-4.2.6\n",
            "\u001b[31mERROR: pip's dependency resolver does not currently take into account all the packages that are installed. This behaviour is the source of the following dependency conflicts.\n",
            "google-colab 1.0.0 requires requests~=2.23.0, but you have requests 2.27.1 which is incompatible.\n",
            "datascience 0.10.6 requires folium==0.2.1, but you have folium 0.8.3 which is incompatible.\u001b[0m\n",
            "Successfully installed lxml-4.8.0 requests-2.27.1 yfinance-0.1.70\n"
          ]
        }
      ],
      "source": [
        "!pip install yfinance\n",
        "\n",
        "import yfinance as yf\n",
        "import numpy as np\n",
        "import pandas as pd\n"
      ]
    },
    {
      "cell_type": "markdown",
      "metadata": {
        "id": "SILHlaBeqQp-"
      },
      "source": [
        "2. Set up the parameters:"
      ]
    },
    {
      "cell_type": "code",
      "execution_count": null,
      "metadata": {
        "id": "77prV2ZkqT1W"
      },
      "outputs": [],
      "source": [
        "N_PORTFOLIOS = 10 ** 5\n",
        "N_DAYS = 252\n",
        "RISKY_ASSETS = ['FB', 'TSLA', 'TWTR', 'MSFT']\n",
        "RISKY_ASSETS.sort()\n",
        "START_DATE = '2018-01-01'\n",
        "END_DATE = '2018-12-31'\n",
        "\n",
        "n_assets = len(RISKY_ASSETS)"
      ]
    },
    {
      "cell_type": "markdown",
      "metadata": {
        "id": "jW9L_uI_qZ9O"
      },
      "source": [
        "3. Download the stock prices from Yahoo Finance:"
      ]
    },
    {
      "cell_type": "code",
      "execution_count": null,
      "metadata": {
        "colab": {
          "base_uri": "https://localhost:8080/"
        },
        "id": "k8VaolUVqbye",
        "outputId": "3b5d79bd-1613-460f-fc17-5d96f580c9cf"
      },
      "outputs": [
        {
          "output_type": "stream",
          "name": "stdout",
          "text": [
            "[*********************100%***********************]  4 of 4 completed\n"
          ]
        }
      ],
      "source": [
        "prices_df = yf.download(RISKY_ASSETS, start=START_DATE, end=END_DATE, adjusted=True)"
      ]
    },
    {
      "cell_type": "markdown",
      "metadata": {
        "id": "ekSPIP2Kqfp2"
      },
      "source": [
        "4. Calculate annualized average returns and the corresponding standard deviation:"
      ]
    },
    {
      "cell_type": "code",
      "execution_count": null,
      "metadata": {
        "id": "r76MPbjTqi5G"
      },
      "outputs": [],
      "source": [
        "returns_df = prices_df['Adj Close'].pct_change().dropna()\n",
        "avg_returns = returns_df.mean() * N_DAYS\n",
        "cov_mat = returns_df.cov() * N_DAYS"
      ]
    },
    {
      "cell_type": "code",
      "execution_count": null,
      "metadata": {
        "id": "sJExgL8hk70H"
      },
      "outputs": [],
      "source": [
        "np.random.seed(42)\n",
        "weights = np.random.random(size=(N_PORTFOLIOS, n_assets))\n",
        "weights /= np.sum(weights, axis=1)[:, np.newaxis]"
      ]
    },
    {
      "cell_type": "code",
      "execution_count": null,
      "metadata": {
        "id": "n10Fj7Q0k70I"
      },
      "outputs": [],
      "source": [
        "portf_rtns = np.dot(weights, avg_returns)\n",
        "portf_vol = []\n",
        "for i in range(0, len(weights)):\n",
        "    portf_vol.append(np.sqrt(np.dot(weights[i].T,\n",
        "                    np.dot(cov_mat, weights[i]))))\n",
        "portf_vol = np.array(portf_vol)\n",
        "portf_sharpe_ratio = portf_rtns / portf_vol"
      ]
    },
    {
      "cell_type": "code",
      "execution_count": null,
      "metadata": {
        "id": "fZbn6Fdck70I"
      },
      "outputs": [],
      "source": [
        "portf_results_df = pd.DataFrame({'returns': portf_rtns,\n",
        "                                    'volatility': portf_vol,\n",
        "                                    'sharpe_ratio':\n",
        "                                    portf_sharpe_ratio})"
      ]
    },
    {
      "cell_type": "markdown",
      "metadata": {
        "id": "ZW8U61bIqmmH"
      },
      "source": [
        "5. Simulate random portfolio weights:"
      ]
    },
    {
      "cell_type": "code",
      "execution_count": null,
      "metadata": {
        "id": "LjJhkBgPk70J"
      },
      "outputs": [],
      "source": [
        "import matplotlib.pyplot as plt"
      ]
    },
    {
      "cell_type": "code",
      "execution_count": null,
      "metadata": {
        "id": "CMcGx1Qyk70J"
      },
      "outputs": [],
      "source": [
        "import numpy as np\n",
        "import scipy.optimize as sco"
      ]
    },
    {
      "cell_type": "markdown",
      "metadata": {
        "id": "725mpLvMk70K"
      },
      "source": [
        "5. Define functions for calculating portfolio returns and volatility"
      ]
    },
    {
      "cell_type": "code",
      "execution_count": null,
      "metadata": {
        "id": "QI5YOBzv_wnT"
      },
      "outputs": [],
      "source": [
        "def get_portf_rtn(w, avg_rtns):\n",
        "  return np.sum(avg_rtns * w)\n",
        "def get_portf_vol(w, avg_rtns, cov_mat):\n",
        "  return np.sqrt(np.dot(w.T, np.dot(cov_mat, w)))"
      ]
    },
    {
      "cell_type": "markdown",
      "metadata": {
        "id": "sxsXBV9Rk70L"
      },
      "source": [
        "6. Define the function calculating the Efficient Frontier"
      ]
    },
    {
      "cell_type": "code",
      "execution_count": null,
      "metadata": {
        "id": "K1LDIQJWk70L"
      },
      "outputs": [],
      "source": [
        "def get_efficient_frontier(avg_rtns, cov_mat, rtns_range):\n",
        "    efficient_portfolios = []\n",
        "    n_assets = len(avg_returns)\n",
        "    args = (avg_returns, cov_mat)\n",
        "    bounds = tuple((0,1) for asset in range(n_assets))\n",
        "    initial_guess = n_assets * [1. / n_assets, ]\n",
        "    for ret in rtns_range:\n",
        "        constraints = ({'type': 'eq',\n",
        "                    'fun': lambda x: get_portf_rtn(x, avg_rtns)\n",
        "                    - ret},\n",
        "                    {'type': 'eq',\n",
        "                    'fun': lambda x: np.sum(x) - 1})\n",
        "        efficient_portfolio = sco.minimize(get_portf_vol,\n",
        "                    initial_guess,\n",
        "                    args=args,\n",
        "                    method='SLSQP',\n",
        "                    constraints=constraints,\n",
        "                    bounds=bounds)\n",
        "        efficient_portfolios.append(efficient_portfolio)\n",
        "    return efficient_portfolios"
      ]
    },
    {
      "cell_type": "markdown",
      "metadata": {
        "id": "iuzNrwFsk70M"
      },
      "source": [
        "7. Define the considered range of returns"
      ]
    },
    {
      "cell_type": "code",
      "execution_count": null,
      "metadata": {
        "id": "SFbbiO8wk70M"
      },
      "outputs": [],
      "source": [
        "rtns_range = np.linspace(-0.22, 0.32, 200)"
      ]
    },
    {
      "cell_type": "markdown",
      "metadata": {
        "id": "L8KYPn9Mk70M"
      },
      "source": [
        "8. Calculate the Efficient Frontier"
      ]
    },
    {
      "cell_type": "code",
      "execution_count": null,
      "metadata": {
        "id": "1U6C5ZWek70M"
      },
      "outputs": [],
      "source": [
        "efficient_portfolios = get_efficient_frontier(avg_returns,\n",
        "cov_mat,\n",
        "rtns_range)"
      ]
    },
    {
      "cell_type": "markdown",
      "metadata": {
        "id": "ezNqUTjDk70N"
      },
      "source": [
        "9. Extract the volatilities of the efficient portfolios"
      ]
    },
    {
      "cell_type": "code",
      "execution_count": null,
      "metadata": {
        "id": "zcPR7ZZ4k70N"
      },
      "outputs": [],
      "source": [
        "vols_range = [x['fun'] for x in efficient_portfolios]"
      ]
    },
    {
      "cell_type": "markdown",
      "metadata": {
        "id": "bqtAx2O5k70N"
      },
      "source": [
        "10. Plot the calculated Efficient Frontier, together with the simulated portfolios"
      ]
    },
    {
      "cell_type": "code",
      "execution_count": null,
      "metadata": {
        "colab": {
          "base_uri": "https://localhost:8080/",
          "height": 349
        },
        "id": "p_no7I0Hk70N",
        "outputId": "37d621ab-f44f-435d-ab8c-e68aa021f0de"
      },
      "outputs": [
        {
          "output_type": "execute_result",
          "data": {
            "text/plain": [
              "[Text(0, 0.5, 'Expected Returns'),\n",
              " Text(0.5, 0, 'Volatility'),\n",
              " Text(0.5, 1.0, 'Efficient Frontier')]"
            ]
          },
          "metadata": {},
          "execution_count": 15
        },
        {
          "output_type": "display_data",
          "data": {
            "text/plain": [
              "<Figure size 432x288 with 2 Axes>"
            ],
            "image/png": "[encoded data removed]"
          },
          "metadata": {
            "needs_background": "light"
          }
        }
      ],
      "source": [
        "fig, ax = plt.subplots()\n",
        "portf_results_df.plot(kind='scatter', x='volatility',\n",
        "                    y='returns', c='sharpe_ratio',\n",
        "                    cmap='RdYlGn', edgecolors='black',\n",
        "                    ax=ax)\n",
        "ax.plot(vols_range, rtns_range, 'b--', linewidth=3)\n",
        "ax.set(xlabel='Volatility',\n",
        "                    ylabel='Expected Returns',\n",
        "                    title='Efficient Frontier')"
      ]
    },
    {
      "cell_type": "markdown",
      "metadata": {
        "id": "5tBYQHvek70O"
      },
      "source": [
        "11. Identify the minimum volatility portfolio"
      ]
    },
    {
      "cell_type": "code",
      "execution_count": null,
      "metadata": {
        "id": "ThRfFSv-I6ts"
      },
      "outputs": [],
      "source": [
        "min_vol_ind = np.argmin(vols_range)\n",
        "min_vol_portf_rtn = rtns_range[min_vol_ind]\n",
        "min_vol_portf_vol = efficient_portfolios[min_vol_ind]['fun']\n",
        "\n",
        "min_vol_portf = {'Return': min_vol_portf_rtn,'Volatility': min_vol_portf_vol,'Sharpe Ratio': (min_vol_portf_rtn /min_vol_portf_vol)}"
      ]
    },
    {
      "cell_type": "markdown",
      "metadata": {
        "id": "bb36YOKik70O"
      },
      "source": [
        "12. Print the performance summary"
      ]
    },
    {
      "cell_type": "code",
      "execution_count": null,
      "metadata": {
        "id": "uAxjHaS3J5mM",
        "colab": {
          "base_uri": "https://localhost:8080/"
        },
        "outputId": "6a646775-a709-4342-ebbe-a0e3990cb16f"
      },
      "outputs": [
        {
          "output_type": "stream",
          "name": "stdout",
          "text": [
            "Minimum volatility portfolio ----\n",
            "Performance\n",
            "Return: 13.01% Volatility: 27.54% Sharpe Ratio: 47.22% \n",
            "Weights\n",
            "FB: 18.65% MSFT: 77.34% TSLA: 4.01% TWTR: 0.00% "
          ]
        }
      ],
      "source": [
        "print('Minimum volatility portfolio ----')\n",
        "print('Performance')\n",
        "\n",
        "for index, value in min_vol_portf.items():\n",
        "  print(f'{index}: {100 * value:.2f}% ', end=\"\", flush=True)\n",
        "\n",
        "print('\\nWeights')\n",
        "for x, y in zip(RISKY_ASSETS, efficient_portfolios[min_vol_ind]['x']):\n",
        "  print(f'{x}: {100*y:.2f}% ', end=\"\", flush=True)"
      ]
    },
    {
      "cell_type": "markdown",
      "metadata": {
        "id": "vDqxb42-k70P"
      },
      "source": [
        "13. Define the objective function (negative Sharpe ratio)"
      ]
    },
    {
      "cell_type": "code",
      "execution_count": null,
      "metadata": {
        "id": "UeHnxuCmk70P"
      },
      "outputs": [],
      "source": [
        "def neg_sharpe_ratio(w, avg_rtns, cov_mat, rf_rate):\n",
        "    portf_returns = np.sum(avg_rtns * w)\n",
        "    portf_volatility = np.sqrt(np.dot(w.T, np.dot(cov_mat, w)))\n",
        "    portf_sharpe_ratio = (  portf_returns - rf_rate)/portf_volatility\n",
        "    return -portf_sharpe_ratio"
      ]
    },
    {
      "cell_type": "markdown",
      "metadata": {
        "id": "bTVRmspvk70P"
      },
      "source": [
        "14. Find the optimized portfolio"
      ]
    },
    {
      "cell_type": "code",
      "execution_count": null,
      "metadata": {
        "id": "pLjAmj9ck70P"
      },
      "outputs": [],
      "source": [
        "n_assets = len(avg_returns)\n",
        "RF_RATE = 0\n",
        "args = (avg_returns, cov_mat, RF_RATE)\n",
        "constraints = ({'type': 'eq',\n",
        "                'fun': lambda x: np.sum(x) - 1})\n",
        "bounds = tuple((0,1) for asset in range(n_assets))\n",
        "initial_guess = n_assets * [1. / n_assets]\n",
        "max_sharpe_portf = sco.minimize(neg_sharpe_ratio,\n",
        "                                x0=initial_guess,\n",
        "                                args=args,\n",
        "                                method='SLSQP',\n",
        "                                bounds=bounds,\n",
        "                                constraints=constraints)"
      ]
    },
    {
      "cell_type": "markdown",
      "metadata": {
        "id": "hOhfmSLhk70P"
      },
      "source": [
        "15. Extract information about the maximum Sharpe ratio portfolio"
      ]
    },
    {
      "cell_type": "code",
      "execution_count": null,
      "metadata": {
        "id": "5SjfiJ2Ck70Q"
      },
      "outputs": [],
      "source": [
        "max_sharpe_portf_w = max_sharpe_portf['x']\n",
        "max_sharpe_portf = {'Return': get_portf_rtn(max_sharpe_portf_w,\n",
        "                                            avg_returns),\n",
        "                    'Volatility': get_portf_vol(max_sharpe_portf_w,\n",
        "                                                avg_returns,\n",
        "                                                cov_mat),\n",
        "                    'Sharpe Ratio': -max_sharpe_portf['fun']}"
      ]
    },
    {
      "cell_type": "markdown",
      "metadata": {
        "id": "Rr8TaqZlk70Q"
      },
      "source": [
        "16. Print the performance summary"
      ]
    },
    {
      "cell_type": "code",
      "execution_count": null,
      "metadata": {
        "colab": {
          "base_uri": "https://localhost:8080/"
        },
        "id": "K6dv5cFqk70Q",
        "outputId": "0b0eeb00-884e-4a72-8824-718cf7cea399"
      },
      "outputs": [
        {
          "output_type": "stream",
          "name": "stdout",
          "text": [
            "Maximum Sharpe Ratio portfolio ----\n",
            "Performance\n",
            "Return: 23.10% Volatility: 29.25% Sharpe Ratio: 78.97% \n",
            "Weights\n",
            "FB: 0.00% MSFT: 81.50% TSLA: 2.79% TWTR: 15.72% "
          ]
        }
      ],
      "source": [
        "print('Maximum Sharpe Ratio portfolio ----')\n",
        "print('Performance')\n",
        "for index, value in max_sharpe_portf.items():\n",
        "    print(f'{index}: {100 * value:.2f}% ', end=\"\", flush=True)\n",
        "print('\\nWeights')\n",
        "for x, y in zip(RISKY_ASSETS, max_sharpe_portf_w):\n",
        "    print(f'{x}: {100*y:.2f}% ', end=\"\", flush=True)"
      ]
    }
  ],
  "metadata": {
    "colab": {
      "collapsed_sections": [],
      "name": "Finding the Efficient Frontier using optimization with scipy.ipynb",
      "provenance": []
    },
    "kernelspec": {
      "display_name": "Python 3",
      "name": "python3"
    },
    "language_info": {
      "codemirror_mode": {
        "name": "ipython",
        "version": 3
      },
      "file_extension": ".py",
      "mimetype": "text/x-python",
      "name": "python",
      "nbconvert_exporter": "python",
      "pygments_lexer": "ipython3",
      "version": "3.8.10"
    }
  },
  "nbformat": 4,
  "nbformat_minor": 0
}